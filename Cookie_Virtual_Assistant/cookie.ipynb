{
 "cells": [
  {
   "cell_type": "code",
   "execution_count": null,
   "metadata": {},
   "outputs": [],
   "source": [
    "pip install pyaudio"
   ]
  },
  {
   "cell_type": "code",
   "execution_count": null,
   "metadata": {},
   "outputs": [],
   "source": [
    "pip install pyttsx3 "
   ]
  },
  {
   "cell_type": "code",
   "execution_count": null,
   "metadata": {},
   "outputs": [],
   "source": [
    "import speech_recognition as sr\n",
    "import pyttsx3 \n",
    "import pywhatkit\n",
    "import datetime\n",
    "import wikipedia\n",
    "listner = sr.Recognizer()\n",
    "engine = pyttsx3.init()\n",
    "voices = engine.getProperty('voices')\n",
    "engine.setProperty('voice',voices[1].id)\n",
    "engine.say('Hi, I am yout virtual assistant Cookie, please allow me some time to set up')\n",
    "\n",
    "def talk(text):\n",
    "     engine.say(text)\n",
    "     engine.runAndWait()\n",
    "\n",
    "def take_command():\n",
    "    try:\n",
    "        with sr.Microphone() as source:\n",
    "            talk('how may i help you!')\n",
    "            voice = listner.listen(source)\n",
    "            command = listner.recognize_google(voice)\n",
    "            command = command.lower()\n",
    "\n",
    "            if 'cookie' in command:\n",
    "                command = command.replace('cookie','')\n",
    "                print(command)\n",
    "           \n",
    "    except Exception as e:\n",
    "        pass\n",
    "    return command\n",
    "\n",
    "def start_interaction():\n",
    "    command = take_command()\n",
    "    if 'play' in command:\n",
    "        song = command.replace('play','')\n",
    "        talk('playing' + song)\n",
    "        pywhatkit.playonyt(song)\n",
    "    elif 'time' in command :\n",
    "        time = datetime.datetime.now().strftime('%I:%M %p')\n",
    "        talk('current time is' +  time)\n",
    "    elif 'wiki' in command:\n",
    "        info = wikipedia.search(command)\n",
    "        talk(info)\n",
    "\n",
    "    \n",
    "while True:\n",
    "    start_interaction() \n",
    "\n",
    "       \n"
   ]
  }
 ],
 "metadata": {
  "interpreter": {
   "hash": "57f152fe9fd02aba0ab85fab66231d8bff5129b8f5433e79f686338a4eece5e5"
  },
  "kernelspec": {
   "display_name": "Python 3.6.0 64-bit",
   "language": "python",
   "name": "python3"
  },
  "language_info": {
   "codemirror_mode": {
    "name": "ipython",
    "version": 3
   },
   "file_extension": ".py",
   "mimetype": "text/x-python",
   "name": "python",
   "nbconvert_exporter": "python",
   "pygments_lexer": "ipython3",
   "version": "3.10.0"
  },
  "orig_nbformat": 4
 },
 "nbformat": 4,
 "nbformat_minor": 2
}
